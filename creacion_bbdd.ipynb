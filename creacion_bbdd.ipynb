{
 "cells": [
  {
   "cell_type": "code",
   "execution_count": 173,
   "metadata": {},
   "outputs": [],
   "source": [
    "# Importar librería para la conexión con MySQL\n",
    "# -----------------------------------------------------------------------\n",
    "import mysql.connector\n",
    "from mysql.connector import errorcode\n",
    "\n",
    "# Importar librerías para manipulación y análisis de datos\n",
    "# -----------------------------------------------------------------------\n",
    "import pandas as pd\n",
    "import numpy as np\n",
    "\n",
    "# Importar otras librerías para manipulación y análisis de datos\n",
    "# -----------------------------------------------------------------------\n",
    "\n",
    "import csv\n",
    "\n",
    "# Configuraciones\n",
    "# -----------------------------------------------------------------------\n",
    "\n",
    "pd.set_option('display.max_columns', None) # Muestra todas las columnas de los DataFrame\n",
    "pd.set_option('display.width', None) # Ajusta el ancho de la consola para evitar truncamientos"
   ]
  },
  {
   "cell_type": "markdown",
   "metadata": {},
   "source": [
    "1. Creamos conexión con SQL."
   ]
  },
  {
   "cell_type": "code",
   "execution_count": 174,
   "metadata": {},
   "outputs": [
    {
     "name": "stdout",
     "output_type": "stream",
     "text": [
      "Conexión exitosa\n"
     ]
    }
   ],
   "source": [
    "config = {\n",
    "  'user': 'root',\n",
    "  'password': 'AlumnaAdalab',\n",
    "  'host': '127.0.0.1',\n",
    "  'raise_on_warnings': True\n",
    "}\n",
    "\n",
    "try:\n",
    "  cnx = mysql.connector.connect(**config)\n",
    "  print(\"Conexión exitosa\")\n",
    "\n",
    "except mysql.connector.Error as err:\n",
    "\n",
    "  if err.errno == errorcode.ER_ACCESS_DENIED_ERROR:\n",
    "    print(\"Hay un problema con tu nombre de usuario o contraseña\")\n",
    "  \n",
    "  elif err.errno == errorcode.ER_BAD_DB_ERROR:\n",
    "    print(\"La base de datos no existe\")\n",
    "  \n",
    "  else:\n",
    "    print(err)\n",
    "\n",
    "# Tratamos de crear la conexión con SQL. Usamos try/except para manejar los posibles errores.\n",
    "\n",
    "config = {\n",
    "  'user': 'root',\n",
    "  'password': 'AlumnaAdalab',\n",
    "  'host': '127.0.0.1',\n",
    "  'raise_on_warnings': True\n",
    "}\n",
    "\n",
    "try:\n",
    "  cnx = mysql.connector.connect(**config)\n",
    "\n",
    "except mysql.connector.Error as err:\n",
    "\n",
    "  if err.errno == errorcode.ER_ACCESS_DENIED_ERROR:\n",
    "    print(\"Hay un problema con tu nombre de usuario o contraseña\")\n",
    "  \n",
    "  elif err.errno == errorcode.ER_BAD_DB_ERROR:\n",
    "    print(\"La base de datos no existe\")\n",
    "  \n",
    "  else:\n",
    "    print(err)"
   ]
  },
  {
   "cell_type": "markdown",
   "metadata": {},
   "source": [
    "2. Creamos nuestra base de datos: tocayoga"
   ]
  },
  {
   "cell_type": "code",
   "execution_count": 175,
   "metadata": {},
   "outputs": [
    {
     "name": "stdout",
     "output_type": "stream",
     "text": [
      "CMySQLCursor: CREATE DATABASE tocayoga\n"
     ]
    }
   ],
   "source": [
    "# Creamos un cursor para poder ejecutar nuestras consultas \n",
    "\n",
    "mycursor = cnx.cursor()\n",
    "\n",
    "# Creamos nuestra base de datos (schema)\n",
    "\n",
    "try:\n",
    "    mycursor.execute(\"CREATE DATABASE tocayoga\")\n",
    "    print(mycursor)\n",
    "\n",
    "except mysql.connector.Error as err:\n",
    "    print(err)\n",
    "    print(\"Error Code:\", err.errno)\n",
    "    print(\"SQLSTATE\", err.sqlstate)\n",
    "    print(\"Message\", err.msg)\n",
    "\n"
   ]
  },
  {
   "cell_type": "markdown",
   "metadata": {},
   "source": [
    "Creamos una función para conectarnos con nuestra base de datos"
   ]
  },
  {
   "cell_type": "code",
   "execution_count": 176,
   "metadata": {},
   "outputs": [],
   "source": [
    "\n",
    "def establecer_conexion(database):\n",
    "\n",
    "    # Esta función conecta con la base de datos que se le indica por parámetro y devuelve el conector creado\n",
    "\n",
    "    config = {\n",
    "    'user': 'root',\n",
    "    'password': 'AlumnaAdalab',\n",
    "    'host': '127.0.0.1',\n",
    "    'database' : f'{database}',\n",
    "    'raise_on_warnings': True\n",
    "    }\n",
    "\n",
    "    try:\n",
    "        cnx = mysql.connector.connect(**config)\n",
    "        print(f\"Conexión establecida con {database}\")\n",
    "\n",
    "    except mysql.connector.Error as err:\n",
    "\n",
    "        if err.errno == errorcode.ER_ACCESS_DENIED_ERROR:\n",
    "            print(\"Hay un problema con tu nombre de usuario o contraseña\")\n",
    "        \n",
    "        elif err.errno == errorcode.ER_BAD_DB_ERROR:\n",
    "            print(\"La base de datos no existe\")\n",
    "        \n",
    "        else:\n",
    "            print(err)\n",
    "    \n",
    "    return cnx\n",
    "\n"
   ]
  },
  {
   "cell_type": "markdown",
   "metadata": {},
   "source": [
    "Creamos la tabla categoria"
   ]
  },
  {
   "cell_type": "code",
   "execution_count": 177,
   "metadata": {},
   "outputs": [
    {
     "name": "stdout",
     "output_type": "stream",
     "text": [
      "Conexión establecida con tocayoga\n",
      "CMySQLCursor: CREATE TABLE categoria (\n",
      "\n",
      "    id_cat INT..\n"
     ]
    }
   ],
   "source": [
    "\n",
    "cnx = establecer_conexion('tocayoga')\n",
    "\n",
    "query_crear_tabla_categoria = \"\"\"CREATE TABLE categoria (\n",
    "\n",
    "    id_cat INT PRIMARY KEY,   \n",
    "    nombre VARCHAR(20),\n",
    "    beneficios VARCHAR(1000))\n",
    "    \"\"\"       \n",
    "\n",
    "mycursor = cnx.cursor()\n",
    "\n",
    "try:\n",
    "    mycursor.execute(query_crear_tabla_categoria)\n",
    "    print(mycursor)\n",
    "except mysql.connector.Error as err:\n",
    "    print(\"Se produjo un error al crear la tabla.\")\n",
    "    print(\"Error Code:\", err.errno)\n",
    "    print(\"SQLSTATE\", err.sqlstate)\n",
    "    print(\"Message\", err.msg)\n",
    "               "
   ]
  },
  {
   "cell_type": "markdown",
   "metadata": {},
   "source": [
    "Creamos la tabla NIVEL"
   ]
  },
  {
   "cell_type": "code",
   "execution_count": 178,
   "metadata": {},
   "outputs": [
    {
     "name": "stdout",
     "output_type": "stream",
     "text": [
      "Conexión establecida con tocayoga\n",
      "CMySQLCursor: CREATE TABLE nivel (\n",
      "    id_nivel INT PR..\n"
     ]
    }
   ],
   "source": [
    "\n",
    "cnx = establecer_conexion('tocayoga')\n",
    "\n",
    "query_crear_tabla_nivel = \"\"\"CREATE TABLE nivel (\n",
    "    id_nivel INT PRIMARY KEY,   \n",
    "    nivel VARCHAR(20))\n",
    "    \"\"\"       \n",
    "\n",
    "mycursor = cnx.cursor()\n",
    "\n",
    "try:\n",
    "    mycursor.execute(query_crear_tabla_nivel)\n",
    "    print(mycursor)\n",
    "except mysql.connector.Error as err:\n",
    "    print(\"Se produjo un error al crear la tabla.\")\n",
    "    print(\"Error Code:\", err.errno)\n",
    "    print(\"SQLSTATE\", err.sqlstate)\n",
    "    print(\"Message\", err.msg)\n",
    "               "
   ]
  },
  {
   "cell_type": "markdown",
   "metadata": {},
   "source": [
    "Creamos la tabla POSTURA"
   ]
  },
  {
   "cell_type": "markdown",
   "metadata": {},
   "source": [
    "TABLA POSTURA\n",
    "\n",
    "(( id_postura PK \n",
    "id_cat FK \n",
    "id_nivel FK)) PK COMPUESTA\n",
    "\n",
    "nombre\n",
    "nombre_sans\n",
    "descripcion\n",
    "beneficios\n",
    "url_svg,\n",
    "url_png,\n",
    "url_svg_alt"
   ]
  },
  {
   "cell_type": "code",
   "execution_count": 179,
   "metadata": {},
   "outputs": [
    {
     "name": "stdout",
     "output_type": "stream",
     "text": [
      "Conexión establecida con tocayoga\n",
      "CMySQLCursor: CREATE TABLE postura (\n",
      "\n",
      "    id_postura I..\n"
     ]
    }
   ],
   "source": [
    "\n",
    "cnx = establecer_conexion('tocayoga')\n",
    "\n",
    "query_crear_tabla_postura = \"\"\"CREATE TABLE postura (\n",
    "\n",
    "    id_postura INT,  \n",
    "    id_cat INT, \n",
    "    id_nivel INT,\n",
    "    nombre VARCHAR(100),\n",
    "    nombre_sans VARCHAR(100),\n",
    "    descripcion VARCHAR(2000),\n",
    "    beneficios VARCHAR(2000),\n",
    "    svg VARCHAR(500),\n",
    "    png VARCHAR(500),\n",
    "    alt VARCHAR(500),\n",
    "    PRIMARY KEY (id_postura, id_cat, id_nivel),\n",
    "    FOREIGN KEY (id_cat) REFERENCES categoria (id_cat),\n",
    "    FOREIGN KEY (id_nivel) REFERENCES nivel (id_nivel))\n",
    "    \"\"\"       \n",
    "\n",
    "mycursor = cnx.cursor()\n",
    "\n",
    "try:\n",
    "    mycursor.execute(query_crear_tabla_postura)\n",
    "    print(mycursor)\n",
    "except mysql.connector.Error as err:\n",
    "    print(\"Se produjo un error al crear la tabla.\")\n",
    "    print(\"Error Code:\", err.errno)\n",
    "    print(\"SQLSTATE\", err.sqlstate)\n",
    "    print(\"Message\", err.msg)"
   ]
  },
  {
   "cell_type": "markdown",
   "metadata": {},
   "source": [
    "Cargamos los df con los datos de los csv y preparamos las listas con los valores que irán en las tablas."
   ]
  },
  {
   "cell_type": "code",
   "execution_count": 180,
   "metadata": {},
   "outputs": [],
   "source": [
    "df_categoria = pd.read_csv('categorias.csv')\n",
    "data_categoria = df_categoria.values.tolist()\n"
   ]
  },
  {
   "cell_type": "code",
   "execution_count": 181,
   "metadata": {},
   "outputs": [
    {
     "data": {
      "text/html": [
       "<div>\n",
       "<style scoped>\n",
       "    .dataframe tbody tr th:only-of-type {\n",
       "        vertical-align: middle;\n",
       "    }\n",
       "\n",
       "    .dataframe tbody tr th {\n",
       "        vertical-align: top;\n",
       "    }\n",
       "\n",
       "    .dataframe thead th {\n",
       "        text-align: right;\n",
       "    }\n",
       "</style>\n",
       "<table border=\"1\" class=\"dataframe\">\n",
       "  <thead>\n",
       "    <tr style=\"text-align: right;\">\n",
       "      <th></th>\n",
       "      <th>id</th>\n",
       "      <th>name</th>\n",
       "      <th>descripcion</th>\n",
       "    </tr>\n",
       "  </thead>\n",
       "  <tbody>\n",
       "    <tr>\n",
       "      <th>0</th>\n",
       "      <td>1</td>\n",
       "      <td>Core Yoga</td>\n",
       "      <td>Engage your abdominal muscles with core yoga p...</td>\n",
       "    </tr>\n",
       "    <tr>\n",
       "      <th>1</th>\n",
       "      <td>2</td>\n",
       "      <td>Seated Yoga</td>\n",
       "      <td>Yoga practice with seated poses that help you...</td>\n",
       "    </tr>\n",
       "    <tr>\n",
       "      <th>2</th>\n",
       "      <td>3</td>\n",
       "      <td>Strengthening Yoga</td>\n",
       "      <td>Work and tone your entire body with strengthen...</td>\n",
       "    </tr>\n",
       "    <tr>\n",
       "      <th>3</th>\n",
       "      <td>4</td>\n",
       "      <td>Chest Opening Yoga</td>\n",
       "      <td>Open your heart and shoulders in chest opening...</td>\n",
       "    </tr>\n",
       "    <tr>\n",
       "      <th>4</th>\n",
       "      <td>5</td>\n",
       "      <td>Backbend Yoga</td>\n",
       "      <td>Discover the powerful effects of yoga backbend...</td>\n",
       "    </tr>\n",
       "    <tr>\n",
       "      <th>5</th>\n",
       "      <td>6</td>\n",
       "      <td>Forward Bend Yoga</td>\n",
       "      <td>Learn how to work stiff muscles safely, promot...</td>\n",
       "    </tr>\n",
       "    <tr>\n",
       "      <th>6</th>\n",
       "      <td>7</td>\n",
       "      <td>Hip Opening Yoga</td>\n",
       "      <td>Loosen tight hips, improve your range of motio...</td>\n",
       "    </tr>\n",
       "    <tr>\n",
       "      <th>7</th>\n",
       "      <td>8</td>\n",
       "      <td>Standing Yoga</td>\n",
       "      <td>Develop strength and stability in your standin...</td>\n",
       "    </tr>\n",
       "    <tr>\n",
       "      <th>8</th>\n",
       "      <td>9</td>\n",
       "      <td>Restorative Yoga</td>\n",
       "      <td>Restorative yoga focuses on winding down after...</td>\n",
       "    </tr>\n",
       "    <tr>\n",
       "      <th>9</th>\n",
       "      <td>10</td>\n",
       "      <td>Arm Balance Yoga</td>\n",
       "      <td>Move past fear, build better balance, and stre...</td>\n",
       "    </tr>\n",
       "    <tr>\n",
       "      <th>10</th>\n",
       "      <td>11</td>\n",
       "      <td>Balancing Yoga</td>\n",
       "      <td>Build a strong foundation for your asana pract...</td>\n",
       "    </tr>\n",
       "    <tr>\n",
       "      <th>11</th>\n",
       "      <td>12</td>\n",
       "      <td>Inversion Yoga</td>\n",
       "      <td>Master inversions—overcome fear and discover h...</td>\n",
       "    </tr>\n",
       "  </tbody>\n",
       "</table>\n",
       "</div>"
      ],
      "text/plain": [
       "    id                name                                        descripcion\n",
       "0    1           Core Yoga  Engage your abdominal muscles with core yoga p...\n",
       "1    2         Seated Yoga   Yoga practice with seated poses that help you...\n",
       "2    3  Strengthening Yoga  Work and tone your entire body with strengthen...\n",
       "3    4  Chest Opening Yoga  Open your heart and shoulders in chest opening...\n",
       "4    5       Backbend Yoga  Discover the powerful effects of yoga backbend...\n",
       "5    6   Forward Bend Yoga  Learn how to work stiff muscles safely, promot...\n",
       "6    7    Hip Opening Yoga  Loosen tight hips, improve your range of motio...\n",
       "7    8       Standing Yoga  Develop strength and stability in your standin...\n",
       "8    9    Restorative Yoga  Restorative yoga focuses on winding down after...\n",
       "9   10    Arm Balance Yoga  Move past fear, build better balance, and stre...\n",
       "10  11      Balancing Yoga  Build a strong foundation for your asana pract...\n",
       "11  12      Inversion Yoga  Master inversions—overcome fear and discover h..."
      ]
     },
     "execution_count": 181,
     "metadata": {},
     "output_type": "execute_result"
    }
   ],
   "source": [
    "df_categoria"
   ]
  },
  {
   "cell_type": "code",
   "execution_count": 182,
   "metadata": {},
   "outputs": [],
   "source": [
    "df_nivel = pd.read_csv('niveles.csv', index_col=0)\n",
    "data_nivel = df_nivel.values.tolist()"
   ]
  },
  {
   "cell_type": "code",
   "execution_count": 183,
   "metadata": {},
   "outputs": [
    {
     "data": {
      "text/html": [
       "<div>\n",
       "<style scoped>\n",
       "    .dataframe tbody tr th:only-of-type {\n",
       "        vertical-align: middle;\n",
       "    }\n",
       "\n",
       "    .dataframe tbody tr th {\n",
       "        vertical-align: top;\n",
       "    }\n",
       "\n",
       "    .dataframe thead th {\n",
       "        text-align: right;\n",
       "    }\n",
       "</style>\n",
       "<table border=\"1\" class=\"dataframe\">\n",
       "  <thead>\n",
       "    <tr style=\"text-align: right;\">\n",
       "      <th></th>\n",
       "      <th>id_nivel</th>\n",
       "      <th>nivel</th>\n",
       "    </tr>\n",
       "  </thead>\n",
       "  <tbody>\n",
       "    <tr>\n",
       "      <th>0</th>\n",
       "      <td>0</td>\n",
       "      <td>beginner</td>\n",
       "    </tr>\n",
       "    <tr>\n",
       "      <th>1</th>\n",
       "      <td>1</td>\n",
       "      <td>intermediate</td>\n",
       "    </tr>\n",
       "    <tr>\n",
       "      <th>2</th>\n",
       "      <td>2</td>\n",
       "      <td>expert</td>\n",
       "    </tr>\n",
       "  </tbody>\n",
       "</table>\n",
       "</div>"
      ],
      "text/plain": [
       "   id_nivel         nivel\n",
       "0         0      beginner\n",
       "1         1  intermediate\n",
       "2         2        expert"
      ]
     },
     "execution_count": 183,
     "metadata": {},
     "output_type": "execute_result"
    }
   ],
   "source": [
    "df_nivel"
   ]
  },
  {
   "cell_type": "code",
   "execution_count": 184,
   "metadata": {},
   "outputs": [],
   "source": [
    "df = pd.read_csv('info_posturas_completo.csv', index_col=0)\n",
    "df_postura = df[['id_postura','id_categoria', 'id_nivel', 'nombre', 'nombre_sans', 'descripcion',  'beneficios', 'url_svg', 'url_png', 'url_svg_alt']]\n",
    "data_postura = df_postura.values.tolist()"
   ]
  },
  {
   "cell_type": "markdown",
   "metadata": {},
   "source": [
    "Insertamos los valores en las tablas. "
   ]
  },
  {
   "cell_type": "code",
   "execution_count": 185,
   "metadata": {},
   "outputs": [
    {
     "name": "stdout",
     "output_type": "stream",
     "text": [
      "12 registro/s insertado/s.\n"
     ]
    }
   ],
   "source": [
    "\n",
    "#Insertar datos dentro de la tabla categoría\n",
    "\n",
    "sql_categoria =  \"INSERT INTO categoria (id_cat, nombre, beneficios) VALUES (%s,%s,%s)\"\n",
    "\n",
    "try: \n",
    "    mycursor.executemany(sql_categoria, data_categoria)\n",
    "    cnx.commit()\n",
    "    print(mycursor.rowcount, \"registro/s insertado/s.\")\n",
    "\n",
    "except mysql.connector.Error as err:\n",
    "    print(err)\n",
    "    print(\"Error Code:\", err.errno)\n",
    "    print(\"SQLSTATE\", err.sqlstate)\n",
    "    print(\"Message\", err.msg)\n"
   ]
  },
  {
   "cell_type": "code",
   "execution_count": 186,
   "metadata": {},
   "outputs": [
    {
     "data": {
      "text/plain": [
       "[[0, 'beginner'], [1, 'intermediate'], [2, 'expert']]"
      ]
     },
     "execution_count": 186,
     "metadata": {},
     "output_type": "execute_result"
    }
   ],
   "source": [
    "data_nivel"
   ]
  },
  {
   "cell_type": "code",
   "execution_count": 187,
   "metadata": {},
   "outputs": [
    {
     "name": "stdout",
     "output_type": "stream",
     "text": [
      "3 registro/s insertado/s.\n"
     ]
    }
   ],
   "source": [
    "#Insertar datos dentro de la tabla nivel\n",
    "\n",
    "sql_nivel =  \"INSERT INTO nivel (id_nivel, nivel) VALUES (%s, %s)\"\n",
    "\n",
    "try: \n",
    "    mycursor.executemany(sql_nivel, data_nivel)\n",
    "    cnx.commit()\n",
    "    print(mycursor.rowcount, \"registro/s insertado/s.\")\n",
    "\n",
    "except mysql.connector.Error as err:\n",
    "    print(err)\n",
    "    print(\"Error Code:\", err.errno)\n",
    "    print(\"SQLSTATE\", err.sqlstate)\n",
    "    print(\"Message\", err.msg)\n"
   ]
  },
  {
   "cell_type": "code",
   "execution_count": 188,
   "metadata": {},
   "outputs": [
    {
     "data": {
      "text/plain": [
       "id_postura                                                     10\n",
       "nombre                                               Child's Pose\n",
       "nombre_sans                                              Balāsana\n",
       "id_categoria                                                    6\n",
       "descripcion     From a kneeling position, the toes and knees a...\n",
       "url_svg         https://res.cloudinary.com/dko1be2jy/image/upl...\n",
       "url_png         https://res.cloudinary.com/dko1be2jy/image/upl...\n",
       "url_svg_alt     https://www.dropbox.com/s/ini3uwali0q5gxa/chil...\n",
       "nombre_cat                                      Forward Bend Yoga\n",
       "beneficios      Learn how to work stiff muscles safely, promot...\n",
       "nivel                                                    beginner\n",
       "id_nivel                                                        0\n",
       "Name: 48, dtype: object"
      ]
     },
     "execution_count": 188,
     "metadata": {},
     "output_type": "execute_result"
    }
   ],
   "source": [
    "df.iloc[48]"
   ]
  },
  {
   "cell_type": "code",
   "execution_count": 189,
   "metadata": {},
   "outputs": [
    {
     "name": "stdout",
     "output_type": "stream",
     "text": [
      "102 registro/s insertado/s.\n"
     ]
    }
   ],
   "source": [
    "#Insertar datos dentro de la tabla postura\n",
    "\n",
    "# df_postura = df[['id_postura','id_categoria', 'nombre', 'nombre_sans', 'descripcion',  'beneficios','id_nivel', 'url_svg', 'url_png', 'url_svg_alt']]\n",
    "\n",
    "\n",
    "sql_postura =  \"INSERT INTO postura (id_postura, id_cat, id_nivel, nombre, nombre_sans, descripcion, beneficios, svg, png, alt) VALUES (%s, %s, %s, %s, %s, %s, %s, %s, %s, %s)\"\n",
    "\n",
    "try: \n",
    "    mycursor.executemany(sql_postura, data_postura)\n",
    "    cnx.commit()\n",
    "    print(mycursor.rowcount, \"registro/s insertado/s.\")\n",
    "\n",
    "except mysql.connector.Error as err:\n",
    "    print(err)\n",
    "    print(\"Error Code:\", err.errno)\n",
    "    print(\"SQLSTATE\", err.sqlstate)\n",
    "    print(\"Message\", err.msg)\n",
    "\n"
   ]
  }
 ],
 "metadata": {
  "kernelspec": {
   "display_name": "Python 3",
   "language": "python",
   "name": "python3"
  },
  "language_info": {
   "codemirror_mode": {
    "name": "ipython",
    "version": 3
   },
   "file_extension": ".py",
   "mimetype": "text/x-python",
   "name": "python",
   "nbconvert_exporter": "python",
   "pygments_lexer": "ipython3",
   "version": "3.12.4"
  }
 },
 "nbformat": 4,
 "nbformat_minor": 2
}
