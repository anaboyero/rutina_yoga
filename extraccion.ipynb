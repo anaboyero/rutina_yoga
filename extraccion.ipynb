{
 "cells": [
  {
   "cell_type": "code",
   "execution_count": 50,
   "metadata": {},
   "outputs": [],
   "source": [
    "# Importar librerías para tratamiento de datos\n",
    "# -----------------------------------------------------------------------\n",
    "import pandas as pd  \n",
    "\n",
    "# Importar librerías para uso de API's\n",
    "# -----------------------------------------------------------------------\n",
    "import requests\n",
    "\n",
    "# Importar librerías para procesamiento de texto\n",
    "# -----------------------------------------------------------------------\n",
    "import re\n",
    "\n",
    "# Importar librerías para pausar la ejecución\n",
    "# -----------------------------------------------------------------------\n",
    "from time import sleep  # Sleep se utiliza para pausar la ejecución del programa por un número de segundos.\n",
    "\n",
    "# Configuraciones\n",
    "# -----------------------------------------------------------------------\n",
    "\n",
    "pd.set_option('display.max_columns', None) # Muestra todas las columnas de los DataFrame\n",
    "pd.set_option('display.width', None) # Ajusta el ancho de la consola para evitar truncamientos"
   ]
  },
  {
   "cell_type": "markdown",
   "metadata": {},
   "source": [
    "1. Conectar con la API y explorar respuestas."
   ]
  },
  {
   "cell_type": "code",
   "execution_count": 51,
   "metadata": {},
   "outputs": [
    {
     "name": "stdout",
     "output_type": "stream",
     "text": [
      "Conexión exitosa\n"
     ]
    }
   ],
   "source": [
    "def llamar_api(url):\n",
    "\n",
    "    # Llama a la API y devuelve la información. La uso para pruebas.\n",
    "\n",
    "    # url = \"https://yoga-api-nzy4.onrender.com/v1/categories\"\n",
    "\n",
    "    respuesta = requests.get(url)\n",
    "\n",
    "    if respuesta.status_code != 200:\n",
    "        print(f\"Error al conectar con la API: {respuesta.reason} \")\n",
    "\n",
    "    else: \n",
    "        print(\"Conexión exitosa\")\n",
    "        categorias = respuesta.json()\n",
    "        return categorias\n",
    "\n",
    "# Probamos la llamada\n",
    "\n",
    "url = \"https://yoga-api-nzy4.onrender.com/v1/categories\"\n",
    "respuesta = llamar_api(url)"
   ]
  },
  {
   "cell_type": "markdown",
   "metadata": {},
   "source": [
    "# Funciones para llamar a la API y extraer posturas por categoría o nivel e información de categorías"
   ]
  },
  {
   "cell_type": "code",
   "execution_count": 52,
   "metadata": {},
   "outputs": [],
   "source": [
    "def extraer_categorias ():\n",
    "\n",
    "    # Llama a la API y devuelve un df con información de las categorías. Guarda los datos en un csv .\n",
    "\n",
    "    url = \"https://yoga-api-nzy4.onrender.com/v1/categories\"\n",
    "\n",
    "    respuesta = requests.get(url)\n",
    "\n",
    "    if respuesta.status_code != 200:\n",
    "        print(f\"Error al conectar con la API: {respuesta.reason} \")\n",
    "\n",
    "    else: \n",
    "\n",
    "        print(\"Conexión exitosa\")\n",
    "        contenido = respuesta.json()\n",
    "        lista_categorias = []\n",
    "\n",
    "        for c in contenido:\n",
    "            dic={}\n",
    "            dic['id'] = c['id']\n",
    "            dic['name'] = c['category_name']\n",
    "            dic['descripcion'] = c['category_description']\n",
    "            lista_categorias.append(dic) \n",
    "\n",
    "        df_categorias = pd.DataFrame(lista_categorias)\n",
    "\n",
    "        # Guardo esta información en un csv\n",
    "\n",
    "        df_categorias.to_csv('categorias.csv', index=False)\n",
    "        print(\"Categorías extraídas. CSV creado\")\n",
    "\n",
    "        return df_categorias"
   ]
  },
  {
   "cell_type": "code",
   "execution_count": 53,
   "metadata": {},
   "outputs": [],
   "source": [
    "def extraer_posturas_categorias():\n",
    "\n",
    "    # Llama a la API y devuelve un df con las posturas organizadas por categorías. Guarda los datos en un csv.\n",
    "\n",
    "\n",
    "    url = \"https://yoga-api-nzy4.onrender.com/v1/categories\"\n",
    "\n",
    "    respuesta = requests.get(url)\n",
    "\n",
    "    if respuesta.status_code != 200:\n",
    "        print(f\"Error al conectar con la API: {respuesta.reason} \")\n",
    "\n",
    "    else: \n",
    "\n",
    "        print(\"Conexión exitosa\")\n",
    "        categorias = respuesta.json()\n",
    "        lista_posturas_categorias = []\n",
    "\n",
    "        for i in range(0, len(categorias)):\n",
    "\n",
    "            categoria_id = categorias[i]['id']\n",
    "              \n",
    "            for pos in categorias[i]['poses']:\n",
    "\n",
    "                dic = {}\n",
    "                dic['id'] = pos['id']\n",
    "                dic['nombre'] = pos['english_name'] \n",
    "                dic['nombre_sans'] = pos['sanskrit_name']\n",
    "                dic['categoria'] = pos['category_name']\n",
    "                dic['categoria_id'] = categoria_id\n",
    "                dic['descripcion'] = pos['pose_description']\n",
    "                dic['beneficios'] = pos['pose_benefits']\n",
    "                dic['url_svg'] = pos['url_svg']\n",
    "                dic['url_png'] = pos['url_png']\n",
    "                dic['url_svg_alt'] = pos['url_svg_alt'] \n",
    "\n",
    "                lista_posturas_categorias.append(dic) \n",
    "\n",
    "        df_posturas_categorias = pd.DataFrame(lista_posturas_categorias)\n",
    "\n",
    "        # Guardo esta información en un csv\n",
    "\n",
    "        df_posturas_categorias.to_csv('posturas_categorias.csv', index=False)\n",
    "        print(\"Posturas extraídas por categorías. CSV creado\")\n",
    "\n",
    "        return df_posturas_categorias\n"
   ]
  },
  {
   "cell_type": "code",
   "execution_count": 54,
   "metadata": {},
   "outputs": [],
   "source": [
    "def extraer_posturas ():\n",
    "    \n",
    "    # Devuelve un dataframe con todas las posturas y crea un csv \n",
    "\n",
    "    url = \"https://yoga-api-nzy4.onrender.com/v1/poses\"\n",
    "\n",
    "    respuesta = requests.get(url)\n",
    "\n",
    "    if respuesta.status_code != 200:\n",
    "        print(f\"Error al conectar con la API: {respuesta.reason} \")\n",
    "\n",
    "    else: \n",
    "        \n",
    "        print(\"Conexión exitosa\")\n",
    "        contenido_pos = respuesta.json()\n",
    "\n",
    "        # Creo un dataframe de posturas.\n",
    "\n",
    "        lista_posturas = []\n",
    "\n",
    "        for pos in contenido_pos:\n",
    "            dic = {}\n",
    "            dic['id'] = pos['id']\n",
    "            dic['nombre'] = pos['english_name'] \n",
    "            dic['nombre_sans'] = pos['sanskrit_name']\n",
    "            dic['descripcion'] = pos['pose_description']\n",
    "            dic['beneficios'] = pos['pose_benefits']\n",
    "            dic['url_svg'] = pos['url_svg']\n",
    "            dic['url_png'] = pos['url_png']\n",
    "            dic['url_svg_alt'] = pos['url_svg_alt'] \n",
    "            lista_posturas.append(dic) \n",
    "\n",
    "        df_posturas = pd.DataFrame(lista_posturas)\n",
    "\n",
    "        # Guardo esta información en un csv\n",
    "\n",
    "        df_posturas.to_csv('posturas.csv', index=False)\n",
    "        print(\"Posturas extraídas. CSV creado\")\n",
    "\n",
    "        return df_posturas"
   ]
  },
  {
   "cell_type": "code",
   "execution_count": 55,
   "metadata": {},
   "outputs": [],
   "source": [
    "def extraer_posturas_niveles ():\n",
    "    \n",
    "    # Devuelve las posturas organizadas por niveles (inicio, intermedio, avanzado)\n",
    "\n",
    "    niveles = ['beginner', 'intermediate', 'expert']\n",
    "\n",
    "    lista_posturas_niveles = []\n",
    "\n",
    "    for nivel in niveles:\n",
    "\n",
    "        url = f\"https://yoga-api-nzy4.onrender.com/v1/poses?level={nivel}\"\n",
    "\n",
    "        dic_niveles = {\n",
    "            'beginner': 0, \n",
    "            'intermediate': 1, \n",
    "            'expert': 2}\n",
    "\n",
    "        respuesta = requests.get(url)\n",
    "\n",
    "        if respuesta.status_code != 200:\n",
    "            print(f\"Error al conectar con la API: {respuesta.reason} \")\n",
    "\n",
    "        else: \n",
    "            \n",
    "            print(\"Conexión exitosa\")\n",
    "            contenido_niv = respuesta.json()\n",
    "            posturas_niv = contenido_niv['poses']\n",
    "            \n",
    "            for pos in posturas_niv:\n",
    "                dic = {}\n",
    "                dic['id'] = pos['id']\n",
    "                dic['nombre'] = pos['english_name'] \n",
    "                dic['nombre_sans'] = pos['sanskrit_name']\n",
    "                dic['descripcion'] = pos['pose_description']\n",
    "                dic['beneficios'] = pos['pose_benefits']\n",
    "                dic['url_svg'] = pos['url_svg']\n",
    "                dic['url_png'] = pos['url_png']\n",
    "                dic['url_svg_alt'] = pos['url_svg_alt'] \n",
    "                dic['nivel'] = nivel\n",
    "                dic['nivel_num'] = dic_niveles[nivel]\n",
    "                lista_posturas_niveles.append(dic) \n",
    "\n",
    "    df_posturas_niv = pd.DataFrame(lista_posturas_niveles)\n",
    "\n",
    "    # Guardo esta información en un csv\n",
    "\n",
    "    df_posturas_niv.to_csv('posturas_niveles.csv', index=False)\n",
    "    print(\"Posturas extraídas por niveles. CSV creado\")\n",
    "\n",
    "    return df_posturas_niv"
   ]
  },
  {
   "cell_type": "markdown",
   "metadata": {},
   "source": [
    "Extraigo los datos."
   ]
  },
  {
   "cell_type": "code",
   "execution_count": 56,
   "metadata": {},
   "outputs": [
    {
     "name": "stdout",
     "output_type": "stream",
     "text": [
      "Conexión exitosa\n",
      "Categorías extraídas. CSV creado\n",
      "Conexión exitosa\n",
      "Posturas extraídas. CSV creado\n",
      "Conexión exitosa\n",
      "Conexión exitosa\n",
      "Conexión exitosa\n",
      "Posturas extraídas por niveles. CSV creado\n",
      "Conexión exitosa\n",
      "Posturas extraídas por categorías. CSV creado\n"
     ]
    }
   ],
   "source": [
    "\n",
    "df_cat = extraer_categorias()\n",
    "df_pos = extraer_posturas()\n",
    "df_niv = extraer_posturas_niveles()\n",
    "df_pos_cat = extraer_posturas_categorias()"
   ]
  },
  {
   "cell_type": "markdown",
   "metadata": {},
   "source": [
    "Ahora junto todos estos datos en un solo dataframe.\n"
   ]
  },
  {
   "cell_type": "code",
   "execution_count": 57,
   "metadata": {},
   "outputs": [],
   "source": [
    "dic_niveles = {\n",
    "    'id_nivel' : [0, 1, 2],\n",
    "    'nivel': ['beginner', 'intermediate','expert']\n",
    "}\n",
    "\n",
    "df_niveles = pd.DataFrame(dic_niveles)\n",
    "df_niveles.to_csv('niveles.csv')"
   ]
  },
  {
   "cell_type": "code",
   "execution_count": 58,
   "metadata": {},
   "outputs": [
    {
     "data": {
      "text/html": [
       "<div>\n",
       "<style scoped>\n",
       "    .dataframe tbody tr th:only-of-type {\n",
       "        vertical-align: middle;\n",
       "    }\n",
       "\n",
       "    .dataframe tbody tr th {\n",
       "        vertical-align: top;\n",
       "    }\n",
       "\n",
       "    .dataframe thead th {\n",
       "        text-align: right;\n",
       "    }\n",
       "</style>\n",
       "<table border=\"1\" class=\"dataframe\">\n",
       "  <thead>\n",
       "    <tr style=\"text-align: right;\">\n",
       "      <th></th>\n",
       "      <th>id_nivel</th>\n",
       "      <th>nivel</th>\n",
       "    </tr>\n",
       "  </thead>\n",
       "  <tbody>\n",
       "    <tr>\n",
       "      <th>0</th>\n",
       "      <td>0</td>\n",
       "      <td>beginner</td>\n",
       "    </tr>\n",
       "    <tr>\n",
       "      <th>1</th>\n",
       "      <td>1</td>\n",
       "      <td>intermediate</td>\n",
       "    </tr>\n",
       "    <tr>\n",
       "      <th>2</th>\n",
       "      <td>2</td>\n",
       "      <td>expert</td>\n",
       "    </tr>\n",
       "  </tbody>\n",
       "</table>\n",
       "</div>"
      ],
      "text/plain": [
       "   id_nivel         nivel\n",
       "0         0      beginner\n",
       "1         1  intermediate\n",
       "2         2        expert"
      ]
     },
     "execution_count": 58,
     "metadata": {},
     "output_type": "execute_result"
    }
   ],
   "source": [
    "df_niveles"
   ]
  },
  {
   "cell_type": "markdown",
   "metadata": {},
   "source": [
    "Ahora juntamos todos los datos en un único dataframe."
   ]
  },
  {
   "cell_type": "code",
   "execution_count": 59,
   "metadata": {},
   "outputs": [],
   "source": [
    "df_pp_cat = pd.read_csv('posturas_categorias.csv')\n",
    "\n",
    "df_cat = pd.read_csv('categorias.csv')\n",
    "\n",
    "df_pp_niv = pd.read_csv('posturas_niveles.csv')"
   ]
  },
  {
   "cell_type": "markdown",
   "metadata": {},
   "source": [
    "Unimos primero por el identificador de las categorías."
   ]
  },
  {
   "cell_type": "code",
   "execution_count": 60,
   "metadata": {},
   "outputs": [],
   "source": [
    "df = pd.merge(left=df_pp_cat , right=df_cat, left_on= 'categoria_id', right_on='id', suffixes=('_postura', '_categoria'))"
   ]
  },
  {
   "cell_type": "code",
   "execution_count": 61,
   "metadata": {},
   "outputs": [
    {
     "data": {
      "text/html": [
       "<div>\n",
       "<style scoped>\n",
       "    .dataframe tbody tr th:only-of-type {\n",
       "        vertical-align: middle;\n",
       "    }\n",
       "\n",
       "    .dataframe tbody tr th {\n",
       "        vertical-align: top;\n",
       "    }\n",
       "\n",
       "    .dataframe thead th {\n",
       "        text-align: right;\n",
       "    }\n",
       "</style>\n",
       "<table border=\"1\" class=\"dataframe\">\n",
       "  <thead>\n",
       "    <tr style=\"text-align: right;\">\n",
       "      <th></th>\n",
       "      <th>id_postura</th>\n",
       "      <th>nombre</th>\n",
       "      <th>nombre_sans</th>\n",
       "      <th>categoria</th>\n",
       "      <th>categoria_id</th>\n",
       "      <th>descripcion_postura</th>\n",
       "      <th>beneficios</th>\n",
       "      <th>url_svg</th>\n",
       "      <th>url_png</th>\n",
       "      <th>url_svg_alt</th>\n",
       "      <th>id_categoria</th>\n",
       "      <th>name</th>\n",
       "      <th>descripcion_categoria</th>\n",
       "    </tr>\n",
       "  </thead>\n",
       "  <tbody>\n",
       "    <tr>\n",
       "      <th>88</th>\n",
       "      <td>21</td>\n",
       "      <td>Half-Moon</td>\n",
       "      <td>Ardha Chandrāsana</td>\n",
       "      <td>Balancing Yoga</td>\n",
       "      <td>11</td>\n",
       "      <td>From a standing position one leg is straight w...</td>\n",
       "      <td>Strengthens the abdomen, ankles, thighs, butto...</td>\n",
       "      <td>https://res.cloudinary.com/dko1be2jy/image/upl...</td>\n",
       "      <td>https://res.cloudinary.com/dko1be2jy/image/upl...</td>\n",
       "      <td>https://www.dropbox.com/s/gpumf9eehr8wo9g/half...</td>\n",
       "      <td>11</td>\n",
       "      <td>Balancing Yoga</td>\n",
       "      <td>Build a strong foundation for your asana pract...</td>\n",
       "    </tr>\n",
       "  </tbody>\n",
       "</table>\n",
       "</div>"
      ],
      "text/plain": [
       "    id_postura     nombre        nombre_sans       categoria  categoria_id  \\\n",
       "88          21  Half-Moon  Ardha Chandrāsana  Balancing Yoga            11   \n",
       "\n",
       "                                  descripcion_postura  \\\n",
       "88  From a standing position one leg is straight w...   \n",
       "\n",
       "                                           beneficios  \\\n",
       "88  Strengthens the abdomen, ankles, thighs, butto...   \n",
       "\n",
       "                                              url_svg  \\\n",
       "88  https://res.cloudinary.com/dko1be2jy/image/upl...   \n",
       "\n",
       "                                              url_png  \\\n",
       "88  https://res.cloudinary.com/dko1be2jy/image/upl...   \n",
       "\n",
       "                                          url_svg_alt  id_categoria  \\\n",
       "88  https://www.dropbox.com/s/gpumf9eehr8wo9g/half...            11   \n",
       "\n",
       "              name                              descripcion_categoria  \n",
       "88  Balancing Yoga  Build a strong foundation for your asana pract...  "
      ]
     },
     "execution_count": 61,
     "metadata": {},
     "output_type": "execute_result"
    }
   ],
   "source": [
    "df.sample()"
   ]
  },
  {
   "cell_type": "markdown",
   "metadata": {},
   "source": [
    "Borro la columna repetida."
   ]
  },
  {
   "cell_type": "code",
   "execution_count": 62,
   "metadata": {},
   "outputs": [],
   "source": [
    "df.drop(labels='id_categoria', axis=1, inplace=True)"
   ]
  },
  {
   "cell_type": "code",
   "execution_count": 63,
   "metadata": {},
   "outputs": [],
   "source": [
    "df.rename(columns={'categoria_id': 'id_categoria'}, inplace=True)\n"
   ]
  },
  {
   "cell_type": "code",
   "execution_count": 64,
   "metadata": {},
   "outputs": [
    {
     "data": {
      "text/plain": [
       "Index(['id_postura', 'nombre', 'nombre_sans', 'categoria', 'id_categoria',\n",
       "       'descripcion_postura', 'beneficios', 'url_svg', 'url_png',\n",
       "       'url_svg_alt', 'name', 'descripcion_categoria'],\n",
       "      dtype='object')"
      ]
     },
     "execution_count": 64,
     "metadata": {},
     "output_type": "execute_result"
    }
   ],
   "source": [
    "df.columns"
   ]
  },
  {
   "cell_type": "markdown",
   "metadata": {},
   "source": [
    "Ahora juntamos con niveles. Los uno por el identificador de la postura."
   ]
  },
  {
   "cell_type": "code",
   "execution_count": 65,
   "metadata": {},
   "outputs": [
    {
     "data": {
      "text/plain": [
       "Index(['id', 'nombre', 'nombre_sans', 'descripcion', 'beneficios', 'url_svg',\n",
       "       'url_png', 'url_svg_alt', 'nivel', 'nivel_num'],\n",
       "      dtype='object')"
      ]
     },
     "execution_count": 65,
     "metadata": {},
     "output_type": "execute_result"
    }
   ],
   "source": [
    "df_pp_niv.columns"
   ]
  },
  {
   "cell_type": "code",
   "execution_count": 66,
   "metadata": {},
   "outputs": [],
   "source": [
    "df_niveles = df_pp_niv[['id', 'nivel', 'nivel_num']]"
   ]
  },
  {
   "cell_type": "code",
   "execution_count": 67,
   "metadata": {},
   "outputs": [],
   "source": [
    "df = pd.merge(left=df , right=df_niveles, left_on= 'id_postura', right_on='id', suffixes=('_postura', '_nivel'))"
   ]
  },
  {
   "cell_type": "code",
   "execution_count": 68,
   "metadata": {},
   "outputs": [
    {
     "data": {
      "text/html": [
       "<div>\n",
       "<style scoped>\n",
       "    .dataframe tbody tr th:only-of-type {\n",
       "        vertical-align: middle;\n",
       "    }\n",
       "\n",
       "    .dataframe tbody tr th {\n",
       "        vertical-align: top;\n",
       "    }\n",
       "\n",
       "    .dataframe thead th {\n",
       "        text-align: right;\n",
       "    }\n",
       "</style>\n",
       "<table border=\"1\" class=\"dataframe\">\n",
       "  <thead>\n",
       "    <tr style=\"text-align: right;\">\n",
       "      <th></th>\n",
       "      <th>id_postura</th>\n",
       "      <th>nombre</th>\n",
       "      <th>nombre_sans</th>\n",
       "      <th>categoria</th>\n",
       "      <th>id_categoria</th>\n",
       "      <th>descripcion_postura</th>\n",
       "      <th>beneficios</th>\n",
       "      <th>url_svg</th>\n",
       "      <th>url_png</th>\n",
       "      <th>url_svg_alt</th>\n",
       "      <th>name</th>\n",
       "      <th>descripcion_categoria</th>\n",
       "      <th>id</th>\n",
       "      <th>nivel</th>\n",
       "      <th>nivel_num</th>\n",
       "    </tr>\n",
       "  </thead>\n",
       "  <tbody>\n",
       "    <tr>\n",
       "      <th>27</th>\n",
       "      <td>44</td>\n",
       "      <td>Warrior One</td>\n",
       "      <td>Vīrabhadrāsana I</td>\n",
       "      <td>Strengthening Yoga</td>\n",
       "      <td>3</td>\n",
       "      <td>From a standing position, the legs are in a wi...</td>\n",
       "      <td>Stretches the chest, lungs, shoulders, neck, b...</td>\n",
       "      <td>https://res.cloudinary.com/dko1be2jy/image/upl...</td>\n",
       "      <td>https://res.cloudinary.com/dko1be2jy/image/upl...</td>\n",
       "      <td>https://www.dropbox.com/s/j9fip5gm1o1l3fx/warr...</td>\n",
       "      <td>Strengthening Yoga</td>\n",
       "      <td>Work and tone your entire body with strengthen...</td>\n",
       "      <td>44</td>\n",
       "      <td>beginner</td>\n",
       "      <td>0</td>\n",
       "    </tr>\n",
       "  </tbody>\n",
       "</table>\n",
       "</div>"
      ],
      "text/plain": [
       "    id_postura       nombre       nombre_sans           categoria  \\\n",
       "27          44  Warrior One  Vīrabhadrāsana I  Strengthening Yoga   \n",
       "\n",
       "    id_categoria                                descripcion_postura  \\\n",
       "27             3  From a standing position, the legs are in a wi...   \n",
       "\n",
       "                                           beneficios  \\\n",
       "27  Stretches the chest, lungs, shoulders, neck, b...   \n",
       "\n",
       "                                              url_svg  \\\n",
       "27  https://res.cloudinary.com/dko1be2jy/image/upl...   \n",
       "\n",
       "                                              url_png  \\\n",
       "27  https://res.cloudinary.com/dko1be2jy/image/upl...   \n",
       "\n",
       "                                          url_svg_alt                name  \\\n",
       "27  https://www.dropbox.com/s/j9fip5gm1o1l3fx/warr...  Strengthening Yoga   \n",
       "\n",
       "                                descripcion_categoria  id     nivel  nivel_num  \n",
       "27  Work and tone your entire body with strengthen...  44  beginner          0  "
      ]
     },
     "execution_count": 68,
     "metadata": {},
     "output_type": "execute_result"
    }
   ],
   "source": [
    "df.sample()"
   ]
  },
  {
   "cell_type": "code",
   "execution_count": 69,
   "metadata": {},
   "outputs": [],
   "source": [
    "df.rename(columns={'descripcion_postura': 'descripcion', 'name' : 'nombre_cat', 'descripcion_categoria': 'beneficios', 'nivel_num' : 'id_nivel', 'beneficios': 'beneficios_repetidos'}, inplace=True)\n"
   ]
  },
  {
   "cell_type": "code",
   "execution_count": 70,
   "metadata": {},
   "outputs": [
    {
     "data": {
      "text/plain": [
       "Index(['id_postura', 'nombre', 'nombre_sans', 'categoria', 'id_categoria',\n",
       "       'descripcion', 'beneficios_repetidos', 'url_svg', 'url_png',\n",
       "       'url_svg_alt', 'nombre_cat', 'beneficios', 'id', 'nivel', 'id_nivel'],\n",
       "      dtype='object')"
      ]
     },
     "execution_count": 70,
     "metadata": {},
     "output_type": "execute_result"
    }
   ],
   "source": [
    "df.columns"
   ]
  },
  {
   "cell_type": "code",
   "execution_count": 71,
   "metadata": {},
   "outputs": [
    {
     "data": {
      "text/plain": [
       "Index(['id_postura', 'nombre', 'nombre_sans', 'id_categoria', 'descripcion',\n",
       "       'url_svg', 'url_png', 'url_svg_alt', 'nombre_cat', 'beneficios',\n",
       "       'nivel', 'id_nivel'],\n",
       "      dtype='object')"
      ]
     },
     "execution_count": 71,
     "metadata": {},
     "output_type": "execute_result"
    }
   ],
   "source": [
    "df.drop(labels=['categoria', 'id', 'beneficios_repetidos'], axis=1, inplace=True)\n",
    "df.columns"
   ]
  },
  {
   "cell_type": "code",
   "execution_count": 72,
   "metadata": {},
   "outputs": [],
   "source": [
    "df.to_csv('info_posturas_completo.csv')"
   ]
  },
  {
   "cell_type": "markdown",
   "metadata": {},
   "source": [
    "--------------------------------------------------- \n"
   ]
  },
  {
   "cell_type": "markdown",
   "metadata": {},
   "source": [
    "{\"base\":\"https://yoga-api-nzy4.onrender.com/v1\",\"categories\":\"https://yoga-api-nzy4.onrender.com/v1/categories\",\"category-by-id\":\"https://yoga-api-nzy4.onrender.com/v1/categories?id=value\",\"category-by-name\":\"https://yoga-api-nzy4.onrender.com/v1/categories?name=value\",\"category-by-id-level\":\"https://yoga-api-nzy4.onrender.com/v1/categories?id=value&level=value\",\"poses\":\"https://yoga-api-nzy4.onrender.com/v1/poses\",\"pose-by-id\":\"https://yoga-api-nzy4.onrender.com/v1/poses?id=value\",\"pose-by-name\":\"https://yoga-api-nzy4.onrender.com/v1/poses?name=value\",\"poses-by-level\":\"https://yoga-api-nzy4.onrender.com/v1/poses?level=beginner\"}"
   ]
  },
  {
   "cell_type": "markdown",
   "metadata": {},
   "source": [
    "### DOCU"
   ]
  },
  {
   "cell_type": "markdown",
   "metadata": {},
   "source": [
    "INFORMACIÓN DE YOGA-API\n",
    "\n",
    "\n",
    "https://github.com/alexcumplido/yoga-api\n",
    "\n",
    "The base url is:\n",
    "\n",
    "https://yoga-api-nzy4.onrender.com/v1\n",
    "\n",
    "Endpoints usage (get)\n",
    "/categories -- all categories\n",
    "/categories?id=value -- category by id\n",
    "/categories?name=value -- category by name\n",
    "/categories?id=value&level=value -- category poses filtered by level\n",
    "/poses -- all poses\n",
    "/poses?id=value -- pose by id\n",
    "/poses?name=value -- pose name\n",
    "/poses?level=value -- poses filtered by level\n",
    "* level: beginner, intermediate, expert\n",
    "\n",
    "* name : english and not sanskrit or adpated\n",
    "\n",
    "* nothing is case-sensitive\n",
    "\n",
    "Request base URL:\n",
    "\n",
    "https://yoga-api-nzy4.onrender.com/v1\n",
    "\n",
    "\n",
    "Response:\n",
    "\n",
    "{\n",
    "  \"base\": \"https://yoga-api-nzy4.onrender.com/v1\",\n",
    "  \"categories\": \"/categories\",\n",
    "  \"category-by-id\": \"/categories?id=value\",\n",
    "  \"category-by-name\": \"/categories?name=value\",\n",
    "  \"category-byID-and-level\": \"/categories?id=value&level=value\",\n",
    "  \"poses\": \"/poses\",\n",
    "  \"pose-by-id\": \"/poses?id=value\",\n",
    "  \"pose-by-name\": \"/poses?name=value\",\n",
    "  \"poses-by-level\": \"/poses?level=value\"\n",
    "}\n",
    "The base URL is the root of the URL. If you ever make a request and you get back a 404 NOT FOUND response, then check the base URL first.\n",
    "\n",
    "Categories\n",
    "Endpoints\n",
    "/categories\n",
    "/categories?id=value\n",
    "/categories?name=value\n",
    "/categories?id=value&level=value\n",
    "Example request categories:\n",
    "\n",
    "https://yoga-api-nzy4.onrender.com/v1/categories\n",
    "\n",
    "\n",
    "Example request category by id or name:\n",
    "\n",
    "https://yoga-api-nzy4.onrender.com/v1/categories?id=4\n",
    "https://yoga-api-nzy4.onrender.com/v1/categories?name=Chest Opening Yoga\n",
    "\n",
    "\n",
    "\n",
    "Poses\n",
    "Endpoints\n",
    "/poses\n",
    "/poses?id=value\n",
    "/poses?name=value\n",
    "/poses?level=value\n",
    "Example request poses:\n",
    "\n",
    "https://yoga-api-nzy4.onrender.com/v1/poses\n",
    "\n"
   ]
  }
 ],
 "metadata": {
  "kernelspec": {
   "display_name": "Python 3",
   "language": "python",
   "name": "python3"
  },
  "language_info": {
   "codemirror_mode": {
    "name": "ipython",
    "version": 3
   },
   "file_extension": ".py",
   "mimetype": "text/x-python",
   "name": "python",
   "nbconvert_exporter": "python",
   "pygments_lexer": "ipython3",
   "version": "3.12.4"
  }
 },
 "nbformat": 4,
 "nbformat_minor": 2
}
